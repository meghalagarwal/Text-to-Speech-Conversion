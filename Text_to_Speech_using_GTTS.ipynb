{
 "cells": [
  {
   "cell_type": "code",
   "execution_count": 4,
   "metadata": {},
   "outputs": [
    {
     "name": "stdout",
     "output_type": "stream",
     "text": [
      "Collecting gTTS\n",
      "  Downloading gTTS-2.2.4-py3-none-any.whl (26 kB)\n",
      "Requirement already satisfied: click in c:\\users\\shubh\\appdata\\local\\programs\\python\\python38-32\\lib\\site-packages (from gTTS) (8.1.2)\n",
      "Requirement already satisfied: requests in c:\\users\\shubh\\appdata\\local\\programs\\python\\python38-32\\lib\\site-packages (from gTTS) (2.23.0)\n",
      "Requirement already satisfied: six in c:\\users\\shubh\\appdata\\local\\programs\\python\\python38-32\\lib\\site-packages (from gTTS) (1.16.0)\n",
      "Requirement already satisfied: colorama in c:\\users\\shubh\\appdata\\local\\programs\\python\\python38-32\\lib\\site-packages (from click->gTTS) (0.4.4)\n",
      "Requirement already satisfied: chardet<4,>=3.0.2 in c:\\users\\shubh\\appdata\\local\\programs\\python\\python38-32\\lib\\site-packages (from requests->gTTS) (3.0.4)\n",
      "Requirement already satisfied: idna<3,>=2.5 in c:\\users\\shubh\\appdata\\local\\programs\\python\\python38-32\\lib\\site-packages (from requests->gTTS) (2.9)\n",
      "Requirement already satisfied: urllib3!=1.25.0,!=1.25.1,<1.26,>=1.21.1 in c:\\users\\shubh\\appdata\\local\\programs\\python\\python38-32\\lib\\site-packages (from requests->gTTS) (1.25.8)\n",
      "Requirement already satisfied: certifi>=2017.4.17 in c:\\users\\shubh\\appdata\\local\\programs\\python\\python38-32\\lib\\site-packages (from requests->gTTS) (2020.4.5.1)\n",
      "Installing collected packages: gTTS\n",
      "Successfully installed gTTS-2.2.4\n"
     ]
    },
    {
     "name": "stderr",
     "output_type": "stream",
     "text": [
      "WARNING: You are using pip version 22.0.4; however, version 22.2.2 is available.\n",
      "You should consider upgrading via the 'c:\\users\\shubh\\appdata\\local\\programs\\python\\python38-32\\python.exe -m pip install --upgrade pip' command.\n"
     ]
    }
   ],
   "source": [
    "! pip install gTTS"
   ]
  },
  {
   "cell_type": "code",
   "execution_count": 5,
   "metadata": {},
   "outputs": [],
   "source": [
    "# Import the required module for text\n",
    "# to speech conversion\n",
    "from gtts import gTTS\n",
    "\n",
    "# This module is imported so that we can\n",
    "# play the converted audio\n",
    "import os"
   ]
  },
  {
   "cell_type": "code",
   "execution_count": 18,
   "metadata": {},
   "outputs": [
    {
     "data": {
      "text/plain": [
       "1"
      ]
     },
     "execution_count": 18,
     "metadata": {},
     "output_type": "execute_result"
    }
   ],
   "source": [
    "# The text that you want to convert to audio\n",
    "eng_mytext = \"Hi Meghal, How are you ?, I am Shubham's laptop and Nice to meet you, Have a Good Day\"\n",
    "hindi_mytext = \"नमस्ते मेघल, कैसे हैं आप , मैं शुभम की लैप्टॉप हु, आपसे मिल कर अच्छा लगा, आपका दिन शुभ रहे. धन्यवाद\"\n",
    "\n",
    "# Language in which you want to convert\n",
    "language = 'hi'\n",
    "\n",
    "# Passing the text and language to the engine,\n",
    "# here we have marked slow=False. Which tells\n",
    "# the module that the converted audio should\n",
    "# have a high speed\n",
    "myobj = gTTS(text=hindi_mytext, lang=language, slow=False)\n",
    "\n",
    "# Saving the converted audio in a mp3 file named\n",
    "# welcome\n",
    "myobj.save(\"welcome.mp3\")\n",
    "\n",
    "# Playing the converted file\n",
    "os.system(\"mpg321 welcome.mp3\")"
   ]
  }
 ],
 "metadata": {
  "kernelspec": {
   "display_name": "Python 3.8.2 32-bit",
   "language": "python",
   "name": "python3"
  },
  "language_info": {
   "codemirror_mode": {
    "name": "ipython",
    "version": 3
   },
   "file_extension": ".py",
   "mimetype": "text/x-python",
   "name": "python",
   "nbconvert_exporter": "python",
   "pygments_lexer": "ipython3",
   "version": "3.8.2"
  },
  "orig_nbformat": 4,
  "vscode": {
   "interpreter": {
    "hash": "a06529d95c6bd6cb94fe87c150522e34b09f1accce5015f14cec0bdbb2556dc3"
   }
  }
 },
 "nbformat": 4,
 "nbformat_minor": 2
}
